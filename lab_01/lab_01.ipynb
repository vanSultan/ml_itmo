{
 "cells": [
  {
   "cell_type": "markdown",
   "metadata": {
    "collapsed": true,
    "pycharm": {
     "name": "#%% md\n"
    }
   },
   "source": [
    "## Task 1"
   ]
  },
  {
   "cell_type": "markdown",
   "metadata": {
    "pycharm": {
     "name": "#%% md\n"
    }
   },
   "source": [
    "1. Train 4 different classifiers using _sklearn_ library to predict _\"Activity\"_ (biological response of the molecule) \n",
    "    field from the [_\"bioresponse.csv\"_](./bioresponse.csv) dataset:\n",
    "    - [small decision tree](#Small-decision-tree);\n",
    "    - [deep decision tree](#Deep-decision-tree);\n",
    "    - [random forest on small trees](#Random-forest-on-small-trees);\n",
    "    - [random forest on deep trees](#Random-forest-on-deep-trees).\n",
    "    "
   ]
  },
  {
   "cell_type": "code",
   "execution_count": 72,
   "metadata": {
    "pycharm": {
     "is_executing": false,
     "name": "#%%\n"
    }
   },
   "outputs": [],
   "source": [
    "%matplotlib inline\n",
    "import pandas\n",
    "from sklearn.model_selection import train_test_split\n",
    "from sklearn.tree import DecisionTreeClassifier\n",
    "from sklearn.metrics import (\n",
    "    precision_score, recall_score, accuracy_score, f1_score, log_loss, precision_recall_curve, roc_curve, roc_auc_score\n",
    ")\n",
    "from matplotlib import pyplot as plt"
   ]
  },
  {
   "cell_type": "code",
   "execution_count": 8,
   "metadata": {
    "pycharm": {
     "is_executing": false,
     "name": "#%%\n"
    }
   },
   "outputs": [
    {
     "data": {
      "text/plain": "   Activity        D1        D2    D3   D4        D5        D6        D7  \\\n0         1  0.000000  0.497009  0.10  0.0  0.132956  0.678031  0.273166   \n1         1  0.366667  0.606291  0.05  0.0  0.111209  0.803455  0.106105   \n2         1  0.033300  0.480124  0.00  0.0  0.209791  0.610350  0.356453   \n3         1  0.000000  0.538825  0.00  0.5  0.196344  0.724230  0.235606   \n4         0  0.100000  0.517794  0.00  0.0  0.494734  0.781422  0.154361   \n\n         D8        D9  ...  D1767  D1768  D1769  D1770  D1771  D1772  D1773  \\\n0  0.585445  0.743663  ...      0      0      0      0      0      0      0   \n1  0.411754  0.836582  ...      1      1      1      1      0      1      0   \n2  0.517720  0.679051  ...      0      0      0      0      0      0      0   \n3  0.288764  0.805110  ...      0      0      0      0      0      0      0   \n4  0.303809  0.812646  ...      0      0      0      0      0      0      0   \n\n   D1774  D1775  D1776  \n0      0      0      0  \n1      0      1      0  \n2      0      0      0  \n3      0      0      0  \n4      0      0      0  \n\n[5 rows x 1777 columns]",
      "text/html": "<div>\n<style scoped>\n    .dataframe tbody tr th:only-of-type {\n        vertical-align: middle;\n    }\n\n    .dataframe tbody tr th {\n        vertical-align: top;\n    }\n\n    .dataframe thead th {\n        text-align: right;\n    }\n</style>\n<table border=\"1\" class=\"dataframe\">\n  <thead>\n    <tr style=\"text-align: right;\">\n      <th></th>\n      <th>Activity</th>\n      <th>D1</th>\n      <th>D2</th>\n      <th>D3</th>\n      <th>D4</th>\n      <th>D5</th>\n      <th>D6</th>\n      <th>D7</th>\n      <th>D8</th>\n      <th>D9</th>\n      <th>...</th>\n      <th>D1767</th>\n      <th>D1768</th>\n      <th>D1769</th>\n      <th>D1770</th>\n      <th>D1771</th>\n      <th>D1772</th>\n      <th>D1773</th>\n      <th>D1774</th>\n      <th>D1775</th>\n      <th>D1776</th>\n    </tr>\n  </thead>\n  <tbody>\n    <tr>\n      <th>0</th>\n      <td>1</td>\n      <td>0.000000</td>\n      <td>0.497009</td>\n      <td>0.10</td>\n      <td>0.0</td>\n      <td>0.132956</td>\n      <td>0.678031</td>\n      <td>0.273166</td>\n      <td>0.585445</td>\n      <td>0.743663</td>\n      <td>...</td>\n      <td>0</td>\n      <td>0</td>\n      <td>0</td>\n      <td>0</td>\n      <td>0</td>\n      <td>0</td>\n      <td>0</td>\n      <td>0</td>\n      <td>0</td>\n      <td>0</td>\n    </tr>\n    <tr>\n      <th>1</th>\n      <td>1</td>\n      <td>0.366667</td>\n      <td>0.606291</td>\n      <td>0.05</td>\n      <td>0.0</td>\n      <td>0.111209</td>\n      <td>0.803455</td>\n      <td>0.106105</td>\n      <td>0.411754</td>\n      <td>0.836582</td>\n      <td>...</td>\n      <td>1</td>\n      <td>1</td>\n      <td>1</td>\n      <td>1</td>\n      <td>0</td>\n      <td>1</td>\n      <td>0</td>\n      <td>0</td>\n      <td>1</td>\n      <td>0</td>\n    </tr>\n    <tr>\n      <th>2</th>\n      <td>1</td>\n      <td>0.033300</td>\n      <td>0.480124</td>\n      <td>0.00</td>\n      <td>0.0</td>\n      <td>0.209791</td>\n      <td>0.610350</td>\n      <td>0.356453</td>\n      <td>0.517720</td>\n      <td>0.679051</td>\n      <td>...</td>\n      <td>0</td>\n      <td>0</td>\n      <td>0</td>\n      <td>0</td>\n      <td>0</td>\n      <td>0</td>\n      <td>0</td>\n      <td>0</td>\n      <td>0</td>\n      <td>0</td>\n    </tr>\n    <tr>\n      <th>3</th>\n      <td>1</td>\n      <td>0.000000</td>\n      <td>0.538825</td>\n      <td>0.00</td>\n      <td>0.5</td>\n      <td>0.196344</td>\n      <td>0.724230</td>\n      <td>0.235606</td>\n      <td>0.288764</td>\n      <td>0.805110</td>\n      <td>...</td>\n      <td>0</td>\n      <td>0</td>\n      <td>0</td>\n      <td>0</td>\n      <td>0</td>\n      <td>0</td>\n      <td>0</td>\n      <td>0</td>\n      <td>0</td>\n      <td>0</td>\n    </tr>\n    <tr>\n      <th>4</th>\n      <td>0</td>\n      <td>0.100000</td>\n      <td>0.517794</td>\n      <td>0.00</td>\n      <td>0.0</td>\n      <td>0.494734</td>\n      <td>0.781422</td>\n      <td>0.154361</td>\n      <td>0.303809</td>\n      <td>0.812646</td>\n      <td>...</td>\n      <td>0</td>\n      <td>0</td>\n      <td>0</td>\n      <td>0</td>\n      <td>0</td>\n      <td>0</td>\n      <td>0</td>\n      <td>0</td>\n      <td>0</td>\n      <td>0</td>\n    </tr>\n  </tbody>\n</table>\n<p>5 rows × 1777 columns</p>\n</div>"
     },
     "metadata": {},
     "output_type": "execute_result",
     "execution_count": 8
    }
   ],
   "source": [
    "bio_df = pandas.read_csv(\"./bioresponse.csv\")\n",
    "bio_df.head()"
   ]
  },
  {
   "cell_type": "code",
   "execution_count": 77,
   "outputs": [],
   "source": [
    "x_vec = bio_df.loc[:, \"D1\":\"D1776\"]\n",
    "y_vec = bio_df[\"Activity\"]\n",
    "\n",
    "x_train, x_test, y_train, y_test = train_test_split(x_vec, y_vec, test_size=0.3, random_state=42)"
   ],
   "metadata": {
    "collapsed": false,
    "pycharm": {
     "name": "#%%\n",
     "is_executing": false
    }
   }
  },
  {
   "cell_type": "markdown",
   "metadata": {
    "pycharm": {
     "is_executing": false,
     "name": "#%% md\n"
    }
   },
   "source": [
    "### Small decision tree"
   ]
  },
  {
   "cell_type": "code",
   "execution_count": 78,
   "metadata": {
    "pycharm": {
     "name": "#%%\n",
     "is_executing": false
    }
   },
   "outputs": [
    {
     "name": "stdout",
     "text": [
      "precision = 0.784; recall = 0.805; accuracy = 0.766\n",
      "f1 = 0.794\n",
      "log_loss = 8.067\n"
     ],
     "output_type": "stream"
    },
    {
     "data": {
      "text/plain": "<matplotlib.legend.Legend at 0x239a14bf2c8>"
     },
     "metadata": {},
     "output_type": "execute_result",
     "execution_count": 78
    },
    {
     "data": {
      "text/plain": "<Figure size 1080x360 with 2 Axes>",
      "image/png": "[encoded data removed]"
     },
     "metadata": {
      "needs_background": "light"
     },
     "output_type": "display_data"
    }
   ],
   "source": [
    "s_dec_tree = DecisionTreeClassifier(max_depth=5, random_state=42)\n",
    "s_dec_tree = s_dec_tree.fit(x_train, y_train)\n",
    "y_pred = s_dec_tree.predict(x_test)\n",
    "\n",
    "print(\"precision = {p:.3f}; recall = {r:.3f}; accuracy = {a:.3f}\".format(\n",
    "    p=precision_score(y_test, y_pred), r=recall_score(y_test, y_pred), a=accuracy_score(y_test, y_pred)\n",
    "))\n",
    "print(\"f1 = {f:.3f}\".format(f=f1_score(y_test, y_pred)))\n",
    "print(\"log_loss = {ll:.3f}\".format(ll=log_loss(y_test, y_pred)))\n",
    "\n",
    "fig, (ax_pr, ax_roc) = plt.subplots(1, 2, figsize=(15, 5))\n",
    "\n",
    "precision, recall, threshold = precision_recall_curve(y_test, y_pred)\n",
    "fpr, tpr, thr = roc_curve(y_test, y_pred)\n",
    "\n",
    "ax_pr.plot(threshold, precision[:-1], label=\"precision\")\n",
    "ax_pr.plot(threshold, recall[:-1], label=\"recall\")\n",
    "ax_pr.set_xlabel(\"threshold\")\n",
    "ax_pr.set_title(\"precision-recall curve\")\n",
    "ax_pr.legend()\n",
    "\n",
    "plt.plot(fpr, tpr, label=\"small decision tree\")\n",
    "ax_roc.set_xlabel(\"false positive rate\")\n",
    "ax_roc.set_ylabel(\"true positive rate\")\n",
    "ax_roc.set_title(\"ROC curve\")\n",
    "ax_roc.legend(loc=4)\n",
    "# ax_roc.axis([-0.1, 1.1, -0.1, 1.1])"
   ]
  },
  {
   "cell_type": "markdown",
   "metadata": {},
   "source": [
    "### Deep decision tree"
   ]
  },
  {
   "cell_type": "code",
   "execution_count": null,
   "metadata": {
    "pycharm": {
     "name": "#%%\n"
    }
   },
   "outputs": [],
   "source": [
    "pass"
   ]
  },
  {
   "cell_type": "markdown",
   "metadata": {},
   "source": [
    "### Random forest on small trees"
   ]
  },
  {
   "cell_type": "code",
   "execution_count": null,
   "metadata": {
    "pycharm": {
     "name": "#%%\n"
    }
   },
   "outputs": [],
   "source": [
    "pass"
   ]
  },
  {
   "cell_type": "markdown",
   "metadata": {
    "pycharm": {
     "name": "#%% md\n"
    }
   },
   "source": [
    "### Random forest on deep trees"
   ]
  },
  {
   "cell_type": "code",
   "execution_count": null,
   "metadata": {
    "pycharm": {
     "name": "#%%\n"
    }
   },
   "outputs": [],
   "source": [
    "pass"
   ]
  }
 ],
 "metadata": {
  "kernelspec": {
   "display_name": "Python 3",
   "language": "python",
   "name": "python3"
  },
  "language_info": {
   "codemirror_mode": {
    "name": "ipython",
    "version": 3
   },
   "file_extension": ".py",
   "mimetype": "text/x-python",
   "name": "python",
   "nbconvert_exporter": "python",
   "pygments_lexer": "ipython3",
   "version": "3.7.5"
  },
  "pycharm": {
   "stem_cell": {
    "cell_type": "raw",
    "source": [],
    "metadata": {
     "collapsed": false
    }
   }
  }
 },
 "nbformat": 4,
 "nbformat_minor": 1
}